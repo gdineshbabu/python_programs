{
 "cells": [
  {
   "cell_type": "code",
   "execution_count": 2,
   "id": "cf988789",
   "metadata": {},
   "outputs": [
    {
     "name": "stdout",
     "output_type": "stream",
     "text": [
      "   0\n",
      "0  1\n",
      "1  2\n",
      "2  3\n",
      "3  4\n"
     ]
    }
   ],
   "source": [
    "# import pandas\n",
    "import pandas as pd\n",
    "data=[1,2,3,4]\n",
    "Df=pd.DataFrame(data)\n",
    "print(Df)"
   ]
  },
  {
   "cell_type": "code",
   "execution_count": 25,
   "id": "59a02544",
   "metadata": {},
   "outputs": [
    {
     "name": "stdout",
     "output_type": "stream",
     "text": [
      "     name  Age\n",
      "0  Dinesh   20\n"
     ]
    }
   ],
   "source": [
    "import pandas as pd\n",
    "data1={'name':['Dinesh'],'Age':[20]}\n",
    "Df=pd.DataFrame(data1)\n",
    "print(Df)"
   ]
  },
  {
   "cell_type": "code",
   "execution_count": 26,
   "id": "e6db21a3",
   "metadata": {},
   "outputs": [
    {
     "name": "stdout",
     "output_type": "stream",
     "text": [
      "             0\n",
      "data 1    This\n",
      "data 2      is\n",
      "data 3  Dinesh\n"
     ]
    }
   ],
   "source": [
    "import pandas as pd\n",
    "data=[\"This\",\"is\",\"Dinesh\"]\n",
    "Df=pd.DataFrame(data,index=(\"data 1\",\"data 2\",\"data 3\"))\n",
    "print(Df)"
   ]
  },
  {
   "cell_type": "code",
   "execution_count": 23,
   "id": "06472f90",
   "metadata": {},
   "outputs": [
    {
     "name": "stdout",
     "output_type": "stream",
     "text": [
      "         a    b    c    d    e     f\n",
      "First    1    2    3    4    5     6\n",
      "Second   5   10   20   40   80   160\n",
      "Third   50  100  200  400  800  1600\n"
     ]
    }
   ],
   "source": [
    "import pandas as pd\n",
    "data=[{'a':1,'b':2,'c':3,'d':4,'e':5,'f':6},{'a':5,'b':10,'c':20,'d':40,'e':80,'f':160},{'a':50,'b':100,'c':200,'d':400,'e':800,'f':1600}]\n",
    "df=pd.DataFrame(data,index=['First','Second','Third'])\n",
    "print(df)"
   ]
  },
  {
   "cell_type": "code",
   "execution_count": 30,
   "id": "a8cf7f46",
   "metadata": {},
   "outputs": [
    {
     "name": "stdout",
     "output_type": "stream",
     "text": [
      "      a     b     c     d     e\n",
      "0  10.0  20.0   NaN   NaN   NaN\n",
      "1   NaN   NaN  30.0  40.0  50.0\n",
      "      a     b\n",
      "0  10.0  20.0\n",
      "1   NaN   NaN\n"
     ]
    }
   ],
   "source": [
    "import pandas as pd\n",
    "data=[{'a':10,\"b\":20},{\"c\":30,\"d\":40,\"e\":50}]\n",
    "df=pd.DataFrame(data,index=[\"0\",\"1\"],columns=[\"a\",\"b\",\"c\",\"d\",\"e\"])\n",
    "df1=pd.DataFrame(data,index=[\"0\",\"1\"],columns=[\"a\",\"b\"])\n",
    "print(df)\n",
    "print(df1)"
   ]
  },
  {
   "cell_type": "code",
   "execution_count": 39,
   "id": "71207cbc",
   "metadata": {},
   "outputs": [
    {
     "name": "stdout",
     "output_type": "stream",
     "text": [
      "   one  two\n",
      "a    1  1.0\n",
      "b    2  2.0\n",
      "c    3  3.0\n",
      "d    4  NaN\n",
      "e    5  NaN\n",
      "f    6  NaN\n"
     ]
    }
   ],
   "source": [
    "import pandas as pd\n",
    "d={'one':pd.Series([1,2,3,4,5,6],index=['a','b','c','d','e','f']),'two':pd.Series([1,2,3],index=['a','b','c'])}\n",
    "df=pd.DataFrame(d)\n",
    "print(df)"
   ]
  },
  {
   "cell_type": "code",
   "execution_count": 44,
   "id": "31d02d02",
   "metadata": {},
   "outputs": [
    {
     "name": "stdout",
     "output_type": "stream",
     "text": [
      "   one  two  three   four\n",
      "a  1.0    1  100.0  101.0\n",
      "b  2.0    2  200.0  202.0\n",
      "c  3.0    3  300.0  303.0\n",
      "d  NaN    4    NaN    NaN\n"
     ]
    }
   ],
   "source": [
    "import pandas as pd\n",
    "d={'one':pd.Series([1,2,3],index=['a','b','c']),'two':pd.Series([1,2,3,4],index=['a','b','c','d'])}\n",
    "df=pd.DataFrame(d)\n",
    "df['three']=pd.Series([100,200,300],index=['a','b','c'])\n",
    "df['four']=df['three']+df['two']\n",
    "print(df)\n"
   ]
  },
  {
   "cell_type": "code",
   "execution_count": 62,
   "id": "4f6c35e3",
   "metadata": {},
   "outputs": [
    {
     "name": "stdout",
     "output_type": "stream",
     "text": [
      "   one  two\n",
      "c   30  300\n",
      "d   40  400\n",
      "   one  two\n",
      "b   20  200\n",
      "c   30  300\n",
      "d   40  400\n",
      "   one  two\n",
      "a   10  100\n",
      "b   20  200\n",
      "c   30  300\n",
      "d   40  400\n",
      "   one  two\n",
      "d   40  400\n",
      "c   30  300\n",
      "b   20  200\n",
      "a   10  100\n",
      "   one  two\n",
      "a   10  100\n",
      "c   30  300\n",
      "   one  two\n",
      "a   10  100\n",
      "d   40  400\n"
     ]
    }
   ],
   "source": [
    "import pandas as pd\n",
    "d={'one':pd.Series([10,20,30,40],index=['a','b','c','d']),'two':pd.Series([100,200,300,400],index=['a','b','c','d'])}\n",
    "df=pd.DataFrame(d)\n",
    "print(df[2:4])\n",
    "print(df[1:])\n",
    "print(df[:4])\n",
    "print(df[::-1])\n",
    "print(df[::2])\n",
    "print(df[::3])\n",
    "\n"
   ]
  },
  {
   "cell_type": "code",
   "execution_count": 71,
   "id": "9831ed91",
   "metadata": {},
   "outputs": [
    {
     "name": "stdout",
     "output_type": "stream",
     "text": [
      "   h1   h2   h3\n",
      "a  10  100  100\n",
      "b  20  200  200\n",
      "c  30  300  400\n",
      "d  40  400  800\n",
      "   h1   h2\n",
      "a  10  100\n",
      "b  20  200\n",
      "c  30  300\n",
      "d  40  400\n",
      "    h2\n",
      "a  100\n",
      "b  200\n",
      "c  300\n",
      "d  400\n"
     ]
    }
   ],
   "source": [
    "import pandas as pd\n",
    "d={'h1':pd.Series([10,20,30,40],index=['a','b','c','d']),'h2':pd.Series([100,200,300,400],index=['a','b','c','d']),'h3':pd.Series([100,200,400,800],index=['a','b','c','d'])}\n",
    "df=pd.DataFrame(d)\n",
    "print(df)\n",
    "del df['h3']\n",
    "print(df)\n",
    "df.pop('h1')\n",
    "print(df)"
   ]
  },
  {
   "cell_type": "code",
   "execution_count": 72,
   "id": "c61f57f6",
   "metadata": {},
   "outputs": [
    {
     "name": "stdout",
     "output_type": "stream",
     "text": [
      "   h1   h2   h3\n",
      "a  10  100  100\n",
      "b  20  200  200\n",
      "c  30  300  400\n",
      "d  40  400  800\n",
      "     h1     h2     h3    x    y\n",
      "a  10.0  100.0  100.0  NaN  NaN\n",
      "b  20.0  200.0  200.0  NaN  NaN\n",
      "c  30.0  300.0  400.0  NaN  NaN\n",
      "d  40.0  400.0  800.0  NaN  NaN\n",
      "0   NaN    NaN    NaN  1.0  2.0\n",
      "1   NaN    NaN    NaN  3.0  4.0\n",
      "     h1     h2     h3    x    y\n",
      "a  10.0  100.0  100.0  NaN  NaN\n",
      "b  20.0  200.0  200.0  NaN  NaN\n",
      "c  30.0  300.0  400.0  NaN  NaN\n",
      "d  40.0  400.0  800.0  NaN  NaN\n",
      "1   NaN    NaN    NaN  3.0  4.0\n"
     ]
    },
    {
     "name": "stderr",
     "output_type": "stream",
     "text": [
      "C:\\Users\\gdine\\AppData\\Local\\Temp\\ipykernel_3276\\2972331608.py:6: FutureWarning: The frame.append method is deprecated and will be removed from pandas in a future version. Use pandas.concat instead.\n",
      "  df=df.append(df1)\n"
     ]
    }
   ],
   "source": [
    "import pandas as pd\n",
    "d={'h1':pd.Series([10,20,30,40],index=['a','b','c','d']),'h2':pd.Series([100,200,300,400],index=['a','b','c','d']),'h3':pd.Series([100,200,400,800],index=['a','b','c','d'])}\n",
    "df=pd.DataFrame(d)\n",
    "print(df)\n",
    "df1=pd.DataFrame([[1,2],[3,4]],columns=['x','y'])\n",
    "df=df.append(df1)\n",
    "print(df)\n",
    "df=df.drop(0)\n",
    "print(df)"
   ]
  },
  {
   "cell_type": "code",
   "execution_count": 73,
   "id": "99048e41",
   "metadata": {},
   "outputs": [
    {
     "name": "stdout",
     "output_type": "stream",
     "text": [
      "   h1   h2   h3\n",
      "a  10  100  100\n",
      "b  20  200  200\n",
      "c  30  300  400\n",
      "d  40  400  800\n",
      "   h1   h2\n",
      "a  10  100\n",
      "b  20  200\n",
      "c  30  300\n",
      "d  40  400\n",
      "    h2\n",
      "a  100\n",
      "b  200\n",
      "c  300\n",
      "d  400\n",
      "      h2    x    y\n",
      "a  100.0  NaN  NaN\n",
      "b  200.0  NaN  NaN\n",
      "c  300.0  NaN  NaN\n",
      "d  400.0  NaN  NaN\n",
      "0    NaN  1.0  2.0\n",
      "1    NaN  3.0  4.0\n",
      "      h2    x    y\n",
      "a  100.0  NaN  NaN\n",
      "b  200.0  NaN  NaN\n",
      "c  300.0  NaN  NaN\n",
      "d  400.0  NaN  NaN\n",
      "1    NaN  3.0  4.0\n"
     ]
    },
    {
     "name": "stderr",
     "output_type": "stream",
     "text": [
      "C:\\Users\\gdine\\AppData\\Local\\Temp\\ipykernel_3276\\3691068.py:10: FutureWarning: The frame.append method is deprecated and will be removed from pandas in a future version. Use pandas.concat instead.\n",
      "  df=df.append(df1)\n"
     ]
    }
   ],
   "source": [
    "import pandas as pd\n",
    "d={'h1':pd.Series([10,20,30,40],index=['a','b','c','d']),'h2':pd.Series([100,200,300,400],index=['a','b','c','d']),'h3':pd.Series([100,200,400,800],index=['a','b','c','d'])}\n",
    "df=pd.DataFrame(d)\n",
    "print(df)\n",
    "del df['h3']\n",
    "print(df)\n",
    "df.pop('h1')\n",
    "print(df)\n",
    "df1=pd.DataFrame([[1,2],[3,4]],columns=['x','y'])\n",
    "df=df.append(df1)\n",
    "print(df)\n",
    "df=df.drop(0)\n",
    "print(df)"
   ]
  },
  {
   "cell_type": "code",
   "execution_count": 80,
   "id": "c495d549",
   "metadata": {},
   "outputs": [
    {
     "name": "stdout",
     "output_type": "stream",
     "text": [
      "         name subject_id  marks\n",
      "super  Dinesh        a12    100\n",
      "Nice     babu         a4     99\n"
     ]
    }
   ],
   "source": [
    "# conccatenating\n",
    "\n",
    "import pandas as me\n",
    "one=me.DataFrame({'name':['Dinesh'],'subject_id':['a12'],'marks':[100]},index=['super'])\n",
    "two=me.DataFrame({'name':['babu'],'subject_id':['a14'],'marks':[99]},index=['Nice'])\n",
    "print(me.concat([one,two]))"
   ]
  },
  {
   "cell_type": "code",
   "execution_count": null,
   "id": "d25a0015",
   "metadata": {},
   "outputs": [],
   "source": []
  }
 ],
 "metadata": {
  "kernelspec": {
   "display_name": "Python 3 (ipykernel)",
   "language": "python",
   "name": "python3"
  },
  "language_info": {
   "codemirror_mode": {
    "name": "ipython",
    "version": 3
   },
   "file_extension": ".py",
   "mimetype": "text/x-python",
   "name": "python",
   "nbconvert_exporter": "python",
   "pygments_lexer": "ipython3",
   "version": "3.9.12"
  }
 },
 "nbformat": 4,
 "nbformat_minor": 5
}
