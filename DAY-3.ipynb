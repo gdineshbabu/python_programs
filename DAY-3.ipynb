{
 "cells": [
  {
   "cell_type": "code",
   "execution_count": 1,
   "id": "5e71599e",
   "metadata": {},
   "outputs": [],
   "source": [
    "import numpy as np"
   ]
  },
  {
   "cell_type": "code",
   "execution_count": 4,
   "id": "c4336813",
   "metadata": {},
   "outputs": [
    {
     "data": {
      "text/plain": [
       "array([1, 2, 3, 4])"
      ]
     },
     "execution_count": 4,
     "metadata": {},
     "output_type": "execute_result"
    }
   ],
   "source": [
    "np.array([1,2,3,4])"
   ]
  },
  {
   "cell_type": "code",
   "execution_count": 16,
   "id": "f71ceea8",
   "metadata": {},
   "outputs": [
    {
     "name": "stdout",
     "output_type": "stream",
     "text": [
      "[[[[ 1  2  3  4]\n",
      "   [ 5 10 15 20]\n",
      "   [10 20 30 40]\n",
      "   [ 1  2  3  4]]]]\n"
     ]
    },
    {
     "data": {
      "text/plain": [
       "4"
      ]
     },
     "execution_count": 16,
     "metadata": {},
     "output_type": "execute_result"
    }
   ],
   "source": [
    "import numpy as np\n",
    "Array=np.array([[[[1,2,3,4],[5,10,15,20],[10,20,30,40],[1,2,3,4]]]])\n",
    "print(Array)\n",
    "Array.ndim"
   ]
  },
  {
   "cell_type": "code",
   "execution_count": 102,
   "id": "024cf6af",
   "metadata": {},
   "outputs": [
    {
     "name": "stdout",
     "output_type": "stream",
     "text": [
      "The list is :\n",
      " [1 2 3 4]\n",
      "Array dimension is : 1\n",
      "\n",
      "The list is :\n",
      " [[1 2 3 4]\n",
      " [1 2 3 4]]\n",
      "Array dimension is : 2\n",
      "\n",
      "The list is :\n",
      " [[[1 2 3 4]\n",
      "  [1 2 3 4]\n",
      "  [1 2 3 4]]]\n",
      "Array dimension is : 3\n",
      "\n",
      "The list is :\n",
      " [[[[1 2 3 4]\n",
      "   [1 2 3 4]\n",
      "   [1 2 3 4]\n",
      "   [1 2 3 4]]]]\n",
      "Array dimension is : 4\n"
     ]
    }
   ],
   "source": [
    "# find the  dimension of the array\n",
    "\n",
    "import numpy as np\n",
    "a=np.array([1,2,3,4])\n",
    "print(\"The list is :\\n\",a)\n",
    "print(\"Array dimension is :\",a.ndim)\n",
    "b=np.array([[1,2,3,4],[1,2,3,4]])\n",
    "print(\"\\nThe list is :\\n\",b)\n",
    "print(\"Array dimension is :\",b.ndim)\n",
    "c=np.array([[[1,2,3,4],[1,2,3,4],[1,2,3,4]]])\n",
    "print(\"\\nThe list is :\\n\",c)\n",
    "print(\"Array dimension is :\",c.ndim)\n",
    "d=np.array([[[[1,2,3,4],[1,2,3,4],[1,2,3,4],[1,2,3,4]]]])\n",
    "print(\"\\nThe list is :\\n\",d)\n",
    "print(\"Array dimension is :\",d.ndim)"
   ]
  },
  {
   "cell_type": "code",
   "execution_count": 86,
   "id": "60a983d3",
   "metadata": {},
   "outputs": [
    {
     "name": "stdout",
     "output_type": "stream",
     "text": [
      "The sum of the elements in the array is : 15\n"
     ]
    }
   ],
   "source": [
    "import numpy as np\n",
    "b=np.array([1,2,3,4,5])\n",
    "c=0\n",
    "for i in range(len(b)):\n",
    "    c+=b[i]\n",
    "print(\"The sum of the elements in the array is :\",c)"
   ]
  },
  {
   "cell_type": "code",
   "execution_count": 88,
   "id": "2fec4322",
   "metadata": {},
   "outputs": [
    {
     "name": "stdout",
     "output_type": "stream",
     "text": [
      "The sum of the elements at the index 2 is: 36\n"
     ]
    }
   ],
   "source": [
    "# Sum the elements at the specific position\n",
    "\n",
    "import numpy as np\n",
    "a=np.array([[1,2,3,4],[5,6,7,8],[9,10,11,12],[13,14,15,16]])\n",
    "c=0\n",
    "for i in range(len(a)):\n",
    "    c+=a[i,2]\n",
    "print(\"The sum of the elements at the index 2 is:\",c)"
   ]
  },
  {
   "cell_type": "code",
   "execution_count": 36,
   "id": "af2f51a5",
   "metadata": {},
   "outputs": [
    {
     "data": {
      "text/plain": [
       "5"
      ]
     },
     "execution_count": 36,
     "metadata": {},
     "output_type": "execute_result"
    }
   ],
   "source": [
    "a[0,0,0]"
   ]
  },
  {
   "cell_type": "code",
   "execution_count": 98,
   "id": "1353f23e",
   "metadata": {},
   "outputs": [
    {
     "name": "stdout",
     "output_type": "stream",
     "text": [
      "The Sum of elements in 2d array at the index 0 is : 20\n"
     ]
    }
   ],
   "source": [
    "# Sum the elements in 2d array at the index 0\n",
    "a = np.array(\n",
    "    [\n",
    "    [ [1,2,3,4], [5,6,7,8], [9,10,11,12] ],  \n",
    "    [ [1,2,3,4], [5,6,7,8], [9,10,11,12] ],  \n",
    "    ]\n",
    ")\n",
    "c=0\n",
    "for i in range(4):\n",
    "    c+=a[0,0,i]+a[1,0,i]\n",
    "print(\"The Sum of elements in 2d array at the index 0 is :\",c)\n",
    "\n"
   ]
  },
  {
   "cell_type": "code",
   "execution_count": 53,
   "id": "8e3c051b",
   "metadata": {},
   "outputs": [
    {
     "name": "stdout",
     "output_type": "stream",
     "text": [
      "[ 1  3  5  7  9 11]\n"
     ]
    }
   ],
   "source": [
    "a = np.array(\n",
    "    [1,2,3,4,5,6,7,8,9,10,11,12]\n",
    ")\n",
    "print(a[::2])"
   ]
  },
  {
   "cell_type": "code",
   "execution_count": 97,
   "id": "4cec070d",
   "metadata": {},
   "outputs": [
    {
     "name": "stdout",
     "output_type": "stream",
     "text": [
      "The  elements from 1-4  : [1 2 3 4]\n",
      "The  elements from 1-10 : [ 1  2  3  4  5  6  7  8  9 10]\n",
      "The elements from 4-10  : [ 4  5  6  7  8  9 10]\n",
      "The next by next elements: [ 1  3  5  7  9 11]\n",
      "The elements from 4-10 using negative value  : [ 4  5  6  7  8  9 10]\n"
     ]
    }
   ],
   "source": [
    "# to print the array elements in the range\n",
    "\n",
    "a = np.array(\n",
    "    [1,2,3,4,5,6,7,8,9,10,11,12]\n",
    ")\n",
    "print(\"The  elements from 1-4  :\",a[:4])  # print the first 4 elements\n",
    "print(\"The  elements from 1-10 :\",a[:10]) # to print from 1-10 in the array\n",
    "print(\"The elements from 4-10  :\",a[3:10]) # print the elements from 4-10\n",
    "print(\"The next by next elements:\",a[::2])  # to print the next by next elements\n",
    "print(\"The elements from 4-10 using negative value  :\",a[-9:10]) # print the elements from 4-10 using an a negative value"
   ]
  },
  {
   "cell_type": "code",
   "execution_count": 92,
   "id": "c7f2bc11",
   "metadata": {},
   "outputs": [
    {
     "name": "stdout",
     "output_type": "stream",
     "text": [
      "The reshaped array is:\n",
      "\n",
      " [[ 1  2  3]\n",
      " [ 4  5  6]\n",
      " [ 7  8  9]\n",
      " [10 11 12]]\n"
     ]
    }
   ],
   "source": [
    "# reshape -array\n",
    "a = np.array(\n",
    "    [1,2,3,4,5,6,7,8,9,10,11,12]\n",
    ")\n",
    "b=a.reshape(4,3)\n",
    "print(\"The reshaped array is:\\n\\n\",b)"
   ]
  },
  {
   "cell_type": "code",
   "execution_count": 101,
   "id": "d3db5f63",
   "metadata": {},
   "outputs": [
    {
     "name": "stdout",
     "output_type": "stream",
     "text": [
      "The concatenated 2d-array is :\n",
      "\n",
      " [[10 20 30 40]\n",
      " [10 20 30 40]\n",
      " [10 20 30 40]\n",
      " [10 20 30 40]]\n"
     ]
    }
   ],
   "source": [
    "# concatenate -2d array\n",
    "a=np.array([[10,20,30,40],[10,20,30,40]])\n",
    "b=np.array([[10,20,30,40],[10,20,30,40]])\n",
    "c=np.concatenate([a,b])\n",
    "print(\"The concatenated 2d-array is :\\n\\n\",c)"
   ]
  },
  {
   "cell_type": "code",
   "execution_count": 100,
   "id": "abe881ed",
   "metadata": {},
   "outputs": [
    {
     "name": "stdout",
     "output_type": "stream",
     "text": [
      "The concatenated 1d-array is : [10 20 30 40 10 20 30 40]\n"
     ]
    }
   ],
   "source": [
    "# concatenate -1d array\n",
    "\n",
    "a=np.array([10,20,30,40])\n",
    "b=np.array([10,20,30,40])\n",
    "c=np.concatenate([a,b])\n",
    "print(\"The concatenated 1d-array is :\",c)"
   ]
  },
  {
   "cell_type": "code",
   "execution_count": 8,
   "id": "a9190d0c",
   "metadata": {},
   "outputs": [
    {
     "name": "stdout",
     "output_type": "stream",
     "text": [
      "The splited array :\n",
      "\n",
      " [array([1, 2, 3, 4]), array([5, 6, 7, 8]), array([ 9, 10, 11, 12])]\n",
      "\n",
      "The reshaped array :\n",
      " [[ 1  2  3  4]\n",
      " [ 5  6  7  8]\n",
      " [ 9 10 11 12]]\n",
      "\n",
      "The reshaped 2d array from 1d array is :\n",
      " [[ 1  2  3  4  5  6]\n",
      " [ 7  8  9 10 11 12]]\n",
      "\n",
      "The sum of the elements in the array is : 78\n"
     ]
    }
   ],
   "source": [
    "# convert 1d array into 2d array using of reshape and find the sum of the elements in the array \n",
    "\n",
    "import numpy as np\n",
    "a = np.array([1,2,3,4,5,6,7,8,9,10,11,12])\n",
    "a1=np.array_split(a,3)\n",
    "print(\"The splited array :\\n\\n\",a1)\n",
    "b=a.reshape(3,4)\n",
    "print(\"\\nThe reshaped array :\\n\",b)\n",
    "c=b.reshape(2,6)\n",
    "print(\"\\nThe reshaped 2d array from 1d array is :\\n\",c)\n",
    "d=0\n",
    "for i in range(len(c[0])):\n",
    "    d+=c[0,i]+c[1,i];\n",
    "print(\"\\nThe sum of the elements in the array is :\",d)"
   ]
  },
  {
   "cell_type": "code",
   "execution_count": 11,
   "id": "9bda62db",
   "metadata": {},
   "outputs": [
    {
     "name": "stdout",
     "output_type": "stream",
     "text": [
      "The dimension of the array is : 3\n",
      "\n",
      "The array list is :\n",
      " [[[list([[1, 2, 3, 4], [5, 6, 7, 8]])\n",
      "   list([[9, 10, 11, 12], [13, 14, 15, 16]]) list([1, 2, 3, 4])\n",
      "   list([5, 6, 7, 8]) list([9, 10, 11, 12]) list([13, 14, 15])]]]\n"
     ]
    },
    {
     "name": "stderr",
     "output_type": "stream",
     "text": [
      "C:\\Users\\gdine\\AppData\\Local\\Temp\\ipykernel_19016\\1413138145.py:4: VisibleDeprecationWarning: Creating an ndarray from ragged nested sequences (which is a list-or-tuple of lists-or-tuples-or ndarrays with different lengths or shapes) is deprecated. If you meant to do this, you must specify 'dtype=object' when creating the ndarray.\n",
      "  a=np.array(\n"
     ]
    }
   ],
   "source": [
    "# create the  3d array \n",
    "\n",
    "import numpy as np\n",
    "a=np.array(\n",
    "    [[[\n",
    "        [[1,2,3,4],[5,6,7,8]],[[9,10,11,12],[13,14,15,16]],[1,2,3,4],[5,6,7,8],[9,10,11,12],[13,14,15]\n",
    "    ]]]\n",
    "\n",
    ")\n",
    "print(\"The dimension of the array is :\",a.ndim)\n",
    "\n",
    "print(\"\\nThe array list is :\\n\",a)"
   ]
  },
  {
   "cell_type": "code",
   "execution_count": null,
   "id": "0861c82c",
   "metadata": {},
   "outputs": [],
   "source": []
  },
  {
   "cell_type": "code",
   "execution_count": null,
   "id": "73cf835b",
   "metadata": {},
   "outputs": [],
   "source": []
  }
 ],
 "metadata": {
  "kernelspec": {
   "display_name": "Python 3 (ipykernel)",
   "language": "python",
   "name": "python3"
  },
  "language_info": {
   "codemirror_mode": {
    "name": "ipython",
    "version": 3
   },
   "file_extension": ".py",
   "mimetype": "text/x-python",
   "name": "python",
   "nbconvert_exporter": "python",
   "pygments_lexer": "ipython3",
   "version": "3.9.12"
  }
 },
 "nbformat": 4,
 "nbformat_minor": 5
}
